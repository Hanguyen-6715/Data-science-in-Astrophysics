{
  "nbformat": 4,
  "nbformat_minor": 0,
  "metadata": {
    "colab": {
      "provenance": [],
      "toc_visible": true,
      "authorship_tag": "ABX9TyNHmkeEl7C1H7TbBL0oB2ws",
      "include_colab_link": true
    },
    "kernelspec": {
      "name": "python3",
      "display_name": "Python 3"
    },
    "language_info": {
      "name": "python"
    }
  },
  "cells": [
    {
      "cell_type": "markdown",
      "metadata": {
        "id": "view-in-github",
        "colab_type": "text"
      },
      "source": [
        "<a href=\"https://colab.research.google.com/github/Hanguyen-6715/Data-science-in-Astrophysics/blob/main/Enrich_features.ipynb\" target=\"_parent\"><img src=\"https://colab.research.google.com/assets/colab-badge.svg\" alt=\"Open In Colab\"/></a>"
      ]
    },
    {
      "cell_type": "code",
      "execution_count": null,
      "metadata": {
        "id": "y1bwvEV40lfI"
      },
      "outputs": [],
      "source": []
    },
    {
      "cell_type": "code",
      "source": [
        "def _basic_fea(df):\n",
        "    df['diurnal_temp_range'] = df['tempmax'] - df['tempmin']\n",
        "    df['average_temp'] = (df['tempmax'] - df['tempmin']) / 2\n",
        "    df['temp_fahrenheit'] = df['temp'] * 9/5 + 32 # convert Celcius to Fahrenhiet degree\n",
        "\n",
        "    df['precip_days_gt_5mm'] = (df['precip'] > 5).sum()\n",
        "    return df\n",
        ""
      ],
      "metadata": {
        "id": "27QXY6O-0n5C"
      },
      "execution_count": null,
      "outputs": []
    },
    {
      "cell_type": "markdown",
      "source": [
        "# Heat index\n"
      ],
      "metadata": {
        "id": "S_13hzF003nJ"
      }
    },
    {
      "cell_type": "code",
      "source": [
        "def _heat_index(RH, T):\n",
        "    \"\"\"\n",
        "    RH: humidity %\n",
        "    T: fahrenheit\n",
        "    unit HI: F\n",
        "    \"\"\"\n",
        "    # Basic heat index\n",
        "    HI = -42.379 + 2.04901523*T + 10.14333127*RH - 0.22475541*T*RH - \\\n",
        "            0.00683783*T*T - 0.05481717*RH*RH + 0.00122874*T*T*RH + \\\n",
        "            0.00085282*T*RH*RH - 0.00000199*T*T*RH*RH\n",
        "\n",
        "    # Apply adjustments\n",
        "    if (RH < 13) and (80 <= T <= 120):\n",
        "        ADJUSTMENT = ((13-RH)/4) * np.sqrt((17 - np.abs(T-95.)) / 17)\n",
        "        HI = HI - ADJUSTMENT\n",
        "\n",
        "    if (RH > 85) and (80 <= T <= 87):\n",
        "        ADJUSTMENT = ((RH-85)/10) * ((87-T)/5)\n",
        "        HI = HI + ADJUSTMENT  # Corrected to add the adjustment\n",
        "\n",
        "    return HI\n",
        ""
      ],
      "metadata": {
        "id": "d5zjjOwJ0pT_"
      },
      "execution_count": null,
      "outputs": []
    },
    {
      "cell_type": "code",
      "source": [
        "def _level_HI(df):\n",
        "    \"\"\"\n",
        "    + Caution: Fatigue possible with prolonged exposure and/or physical activity\n",
        "    + Extreme Caution: Heat stroke, heat cramps, or heat exhaustion\n",
        "    + Danger: Heat cramps or heat exhaustion likely, and heat stroke\n",
        "    + Extreme Danger: Heat stroke highly\n",
        "    unit: F\n",
        "    \"\"\"\n",
        "\n",
        "    df.loc[df['heat_index'] < 80, 'level_HI'] = 'safe'\n",
        "    df.loc[df['heat_index'].between(80, 90, inclusive = 'left'), 'level_HI'] = 'caution'\n",
        "    df.loc[df['heat_index'].between(90, 103, inclusive = 'left'), 'level_HI'] = 'extreme caution'\n",
        "    df.loc[df['heat_index'].between(103, 124, inclusive = 'left'), 'level_HI'] = 'danger'\n",
        "    df.loc[df['heat_index'] >= 125, 'level_HI'] = 'extreme danger'\n",
        "\n",
        "    return df\n",
        ""
      ],
      "metadata": {
        "id": "9weyF4-Y0pRb"
      },
      "execution_count": null,
      "outputs": []
    },
    {
      "cell_type": "markdown",
      "source": [
        "# Wind chill"
      ],
      "metadata": {
        "id": "5YxA2t0k1KLs"
      }
    },
    {
      "cell_type": "code",
      "source": [
        "def _windchill(WS, T):\n",
        "    \"\"\"\n",
        "    T: celcius\n",
        "    ws: km/h\n",
        "    \"\"\"\n",
        "    Tw = 13.127 + 0.6215*T - 11.362*(pow(WS, 0.16)) + 0.396*T*(pow(WS, 0.16))\n",
        "    return Tw\n",
        ""
      ],
      "metadata": {
        "id": "IgTfEQSC0pII"
      },
      "execution_count": null,
      "outputs": []
    },
    {
      "cell_type": "code",
      "source": [
        "def _wind_level(x):\n",
        "    \"\"\"unit: km/h\n",
        "    \"\"\"\n",
        "    levels = {\n",
        "        (0, 0): 0,\n",
        "        (1, 5): 1,\n",
        "        (6, 11): 2,\n",
        "        (12, 19): 3,\n",
        "        (20, 28): 4,\n",
        "        (29, 38): 5,\n",
        "        (39, 49): 6,\n",
        "        (50, 61): 7,\n",
        "        (62, 74): 8,\n",
        "        (75, 88): 9,\n",
        "        (89, 102): 10,\n",
        "        (103, 117): 11,\n",
        "        (118, 133): 12,\n",
        "        (134, 149): 13,\n",
        "        (150, 166): 14,\n",
        "        (167, 183): 15,\n",
        "        (184, 201): 16,\n",
        "        (202, 220): 17,\n",
        "        (221, np.inf): 18\n",
        "    }\n",
        "\n",
        "    for (low, high), level in levels.items():\n",
        "        if low <= x <= high:\n",
        "            return level\n",
        "    return None"
      ],
      "metadata": {
        "id": "Ykas7VsF0pEr"
      },
      "execution_count": null,
      "outputs": []
    },
    {
      "cell_type": "code",
      "source": [
        "def categorize_wind_level(df, wind_level_col='wind_level', output_col='ten_cap_bao'):\n",
        "    \"\"\"\n",
        "    Categorizes wind levels into different types of storms\n",
        "    \"\"\"\n",
        "    df.loc[df[wind_level_col].isin([0, 1, 2, 3]), output_col] = 'L'\n",
        "    df.loc[df[wind_level_col].isin([4]), output_col] = 'vung ap thap'\n",
        "    df.loc[df[wind_level_col].isin([5]), output_col] = 'vung ap thap duoc cap so hieu'\n",
        "    df.loc[df[wind_level_col].isin([6, 7]), output_col] = 'ap thap nhiet doi'\n",
        "    df.loc[df[wind_level_col].isin([8, 9]), output_col] = 'bao'\n",
        "    df.loc[df[wind_level_col].isin([10, 11]), output_col] = 'bao manh'\n",
        "    df.loc[df[wind_level_col].isin([12, 13, 14, 15]), output_col] = 'bao rat manh'\n",
        "    df.loc[df[wind_level_col].isin([16, 17, 18]), output_col] = 'sieu bao'\n",
        "\n",
        "    return df"
      ],
      "metadata": {
        "id": "45gwjGt50o-j"
      },
      "execution_count": null,
      "outputs": []
    },
    {
      "cell_type": "markdown",
      "source": [
        "# Dew point"
      ],
      "metadata": {
        "id": "sErt8uut1UXU"
      }
    },
    {
      "cell_type": "code",
      "source": [
        "def _dew_point(RH, T):\n",
        "    \"\"\"\n",
        "    RH - Humidity: %\n",
        "    T: Celsius\n",
        "    \"\"\"\n",
        "    a = 17.625\n",
        "    b = 243.04 # Celsius\n",
        "    alpha = np.log(RH/100) + a*T/(b+T)\n",
        "    DP = (b * alpha)  / (a - alpha)\n",
        "    return DP\n"
      ],
      "metadata": {
        "id": "825Pwkvk0oy4"
      },
      "execution_count": null,
      "outputs": []
    },
    {
      "cell_type": "markdown",
      "source": [
        "# Nang Nong"
      ],
      "metadata": {
        "id": "lc_ffSS41sc6"
      }
    },
    {
      "cell_type": "code",
      "source": [
        "def _level_nangnong(df):\n",
        "    df.loc[df['tempmax'].between(35,37), 'level_nangnong'] = 'nang nong'\n",
        "    df.loc[df_weather['tempmax'].between(37,39), 'level_nangnong'] = 'nang nong gay gat'\n",
        "    df.loc[df['tempmax'] >= 39, 'level_nangnong'] = 'nang nong dac biet gay gat'\n",
        "\n",
        "    df['is_T35'] = df['tempmax'].apply(lambda x: 1 if x >= 35 else 0)\n",
        "    df['is_T37'] = df['tempmax'].apply(lambda x: 1 if x >= 37 else 0)\n",
        "    return df\n",
        ""
      ],
      "metadata": {
        "id": "l643Hmjo1sLa"
      },
      "execution_count": 5,
      "outputs": []
    },
    {
      "cell_type": "code",
      "source": [
        "def _area_T35(group):\n",
        "    if group['is_T35'].sum() >= (group['locationId'].nunique() / 2):\n",
        "        return 'dien rong'\n",
        "    else:\n",
        "        return 'cuc bo'\n",
        "\n",
        "\n",
        "def _area_T37(group):\n",
        "    area_type = group['area_nangnong'].iloc[0]  # Take the values of col 'are' in current group\n",
        "\n",
        "    # Condition:nắng nóng gay gắt trên diện rộng\n",
        "    is_T35_sum = group['is_T35'].sum()\n",
        "    is_T37_sum = group['is_T37'].sum()\n",
        "\n",
        "    if area_type == 'dien rong':\n",
        "        # Nếu có ít nhất 1/2 số trạm có nhiệt độ ≥ 35°C và trong số đó có ít nhất 1/2 số trạm có nhiệt độ ≥ 37°C\n",
        "        if is_T37_sum >= (is_T35_sum / 2):\n",
        "            return 'gay gat dien rong'\n",
        "        else:\n",
        "            return 'gay gat cuc bo'\n",
        "\n",
        "    elif area_type == 'cuc bo':\n",
        "        # Nắng nóng cục bộ không thể có nắng nóng gay gắt trên diện rộng\n",
        "        if is_T37_sum >= (is_T35_sum / 2):\n",
        "            return None\n",
        "        else:\n",
        "            return 'gay gat cuc bo'\n",
        "\n",
        "    # Trường hợp nếu 'area' không phải là 'dien rong' hay 'cuc bo'\n",
        "    return None"
      ],
      "metadata": {
        "id": "s0Hzn1sv1sCi"
      },
      "execution_count": 6,
      "outputs": []
    },
    {
      "cell_type": "code",
      "source": [
        "def _heatwave(group):\n",
        "    \"\"\"\n",
        "    đợt nắng nóng: Khi nắng nóng diện rộng xuất hiện liên tục từ 2 ngày trở lên trong một khu vực dự báo\n",
        "    \"\"\"\n",
        "    group['heatwave_period'] = (group['area_nangnong'] == 'dien rong').astype(int)\n",
        "    group['heatwave_period'] = group['heatwave_period'].diff().ne(0).cumsum()\n",
        "    heatwave_count = group.groupby('heatwave_period')['heatwave_period'].transform('size')\n",
        "    group['dot_nang_nong'] = (heatwave_count >= 2) & (group['area_nangnong'] == 'dien rong')\n",
        "\n",
        "    return group\n"
      ],
      "metadata": {
        "id": "iVL0QwC41v77"
      },
      "execution_count": 7,
      "outputs": []
    },
    {
      "cell_type": "markdown",
      "source": [
        "# Precip"
      ],
      "metadata": {
        "id": "Hv7mIoS215E9"
      }
    },
    {
      "cell_type": "code",
      "source": [
        "def _level_precip(df, precip_col='precip', output_col='level_precip'):\n",
        "    \"\"\"\n",
        "    categorizes level of precipitation\n",
        "    unit: mm/12h\n",
        "    \"\"\"\n",
        "\n",
        "    df.loc[df[precip_col] < 0.3, output_col] = 'mua nho, k dang ke'\n",
        "    df.loc[df[precip_col].between(0.3, 3, inclusive = 'left') , output_col] = 'mua nho'\n",
        "    df.loc[df[precip_col].between(3, 8, inclusive = 'left'), output_col] = 'mua'\n",
        "    df.loc[df[precip_col].between(8, 25, inclusive = 'left'), output_col] = 'mua vua'\n",
        "    df.loc[df[precip_col].between(25, 50, inclusive = 'left'), output_col] = 'mua to'\n",
        "    df.loc[df[precip_col] > 50, output_col] = 'mua rat to'\n",
        "\n",
        "    return df"
      ],
      "metadata": {
        "id": "a-RMRmae158x"
      },
      "execution_count": null,
      "outputs": []
    },
    {
      "cell_type": "markdown",
      "source": [
        "# Main"
      ],
      "metadata": {
        "id": "jpidZ-iK18DW"
      }
    },
    {
      "cell_type": "code",
      "source": [
        "df = _basic_fea(df)\n",
        "\n",
        "# Nhiet do bieu kien\n",
        "df['heat_index'] = df.apply(lambda row: _heat_index(row['humidity'], row['temp_fahrenheit']), axis=1)\n",
        "\n",
        "# level of heat index\n",
        "df = _level_HI(df)\n",
        "\n",
        "# windchill\n",
        "df['windchill'] = df.apply(lambda row: _windchill(row['windspeed'], row['temp']), axis=1)\n",
        "\n",
        "# wind_level\n",
        "df['wind_level'] = df['windspeed'].apply(_wind_level)\n",
        "\n",
        "# cap do bao\n",
        "df = categorize_wind_level(df)\n",
        "\n",
        "# diem suong\n",
        "df['dew_point'] = df.apply(lambda row: _dew_point(row['humidity'], row['temp']), axis=1)\n",
        "\n",
        "# level precipitation\n",
        "df = _level_precip(df, precip_col='precip', output_col='level_precip')"
      ],
      "metadata": {
        "id": "w-lG4cUT18yj"
      },
      "execution_count": null,
      "outputs": []
    },
    {
      "cell_type": "code",
      "source": [
        "# nang nong\n",
        "df.loc[df['tempmax'].between(35,37), 'level_nangnong'] = 'nang nong'\n",
        "df.loc[df['tempmax'].between(37,39), 'level_nangnong'] = 'nang nong gay gat'\n",
        "df.loc[df['tempmax'] >= 39, 'level_nangnong'] = 'nang nong dac biet gay gat'\n",
        "\n",
        "df['is_T35'] = df['tempmax'].apply(lambda x: 1 if x >= 35 else 0)\n",
        "df['is_T37'] = df['tempmax'].apply(lambda x: 1 if x >= 37 else 0)\n",
        "\n",
        "\n",
        "# use def _area_T35\n",
        "area_T35_values = df.groupby(['locationNameLv1', 'date']).apply(_area_T35).reset_index(name='area_nangnong')\n",
        "df = df.merge(area_T35_values, on=['locationNameLv1', 'date'], how='left')\n",
        "\n",
        "# use def _area_T37\n",
        "area_T37_values = df.groupby(['locationNameLv1', 'date']).apply(_area_T37).reset_index(name='area_level_nangnong')\n",
        "df = df.merge(area_T37_values, on=['locationNameLv1', 'date'], how='left')\n",
        "\n",
        "# level_nangnong\n",
        "df.loc[df['level_nangnong'].isna(), 'area_nangnong'] = None\n",
        "df.loc[df['level_nangnong'].isna(), 'area_level_nangnong'] = None\n",
        "\n",
        "# xac dinh cac dot nang nong\n",
        "df1 = df.groupby(['locationNameLv1', 'locationId']).apply(_heatwave).reset_index(drop=True)"
      ],
      "metadata": {
        "id": "2vQhNEx22AI7"
      },
      "execution_count": null,
      "outputs": []
    }
  ]
}